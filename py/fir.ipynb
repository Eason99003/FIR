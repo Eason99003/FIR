{
 "cells": [
  {
   "cell_type": "code",
   "execution_count": 1,
   "id": "ea1ef0d0-55dc-41ba-aae9-15491381142a",
   "metadata": {},
   "outputs": [
    {
     "name": "stdin",
     "output_type": "stream",
     "text": [
      "Enter data length (x.dat):  400\n",
      "Enter coefficient length (coef.dat):  32\n"
     ]
    },
    {
     "name": "stdout",
     "output_type": "stream",
     "text": [
      "Generated x.dat and coef.dat, computed y.dat.\n"
     ]
    }
   ],
   "source": [
    "import numpy as np\n",
    "\n",
    "def generate_random_data(filename, length, min_val, max_val, integer=True):\n",
    "    \"\"\"Generates random integer data and writes it to a file.\"\"\"\n",
    "    if integer:\n",
    "        data = np.random.randint(min_val, max_val + 1, length)\n",
    "    else:\n",
    "        data = np.random.uniform(min_val, max_val, length)\n",
    "    \n",
    "    with open(filename, 'w') as file:\n",
    "        for value in data:\n",
    "            file.write(f\"{value:.0f}\\n\")\n",
    "    return data\n",
    "\n",
    "def read_input_file(filename):\n",
    "    with open(filename, 'r') as file:\n",
    "        return [float(line.strip()) for line in file.readlines()]\n",
    "\n",
    "def fir_filter(input_data, coefficients, tape_num, output_length=None):\n",
    "    \"\"\"x[i]*coef[0] + x[i-1]*coef[1] + ... + x[i-10]*coef[10]\"\"\"\n",
    "    output_length = output_length or len(input_data)\n",
    "    output_data = []\n",
    "    \n",
    "    for i in range(output_length):\n",
    "        value = sum(coefficients[j] * (input_data[i - j] if (i - j) >= 0 else 0) for j in range(tape_num))\n",
    "        output_data.append(int(round(value)))\n",
    "    return output_data\n",
    "\n",
    "def write_output_file(filename, data):\n",
    "    with open(filename, 'w') as file:\n",
    "        for value in data:\n",
    "            file.write(f\"{value:.0f}\\n\")\n",
    "\n",
    "def main():\n",
    "    data_len = int(input(\"Enter data length (x.dat): \"))\n",
    "    coef_len = int(input(\"Enter coefficient length (coef.dat): \"))\n",
    "    \n",
    "    x_filename = 'x.dat'\n",
    "    coef_filename = 'coef.dat'\n",
    "    output_filename = 'y.dat'\n",
    "    \n",
    "    # Generate random integer data\n",
    "    input_data = generate_random_data(x_filename, data_len,-100000,100000, integer=True)\n",
    "    coefficients = generate_random_data(coef_filename, coef_len,-10,10, integer=True)\n",
    "    \n",
    "    # Apply FIR filter\n",
    "    output_data = fir_filter(input_data, coefficients, tape_num=coef_len, output_length=data_len)\n",
    "    \n",
    "    # Write output data\n",
    "    write_output_file(output_filename, output_data)\n",
    "    \n",
    "    print(f\"Generated {x_filename} and {coef_filename}, computed {output_filename}.\")\n",
    "\n",
    "if __name__ == \"__main__\":\n",
    "    main()"
   ]
  },
  {
   "cell_type": "code",
   "execution_count": null,
   "id": "c8287137-bf9d-4559-9525-5d5d5b1a7a31",
   "metadata": {},
   "outputs": [],
   "source": []
  }
 ],
 "metadata": {
  "kernelspec": {
   "display_name": "Python [conda env:base] *",
   "language": "python",
   "name": "conda-base-py"
  },
  "language_info": {
   "codemirror_mode": {
    "name": "ipython",
    "version": 3
   },
   "file_extension": ".py",
   "mimetype": "text/x-python",
   "name": "python",
   "nbconvert_exporter": "python",
   "pygments_lexer": "ipython3",
   "version": "3.12.7"
  }
 },
 "nbformat": 4,
 "nbformat_minor": 5
}
